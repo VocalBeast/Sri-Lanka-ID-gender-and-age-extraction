{
 "cells": [
  {
   "cell_type": "code",
   "execution_count": 1,
   "id": "bc864a08",
   "metadata": {},
   "outputs": [],
   "source": [
    "from datetime import datetime, timedelta"
   ]
  },
  {
   "cell_type": "code",
   "execution_count": 2,
   "id": "baa18832",
   "metadata": {},
   "outputs": [],
   "source": [
    "def nic_classifier():\n",
    "    x = input('Please input the NIC number - include the letter at the end for older NIC numbers: ')\n",
    "    x_string = str(x)\n",
    "    #To remove any blank spaces the user might have additionally added\n",
    "    y = x_string.strip() #y is now the nic number in question\n",
    "    \n",
    "    \n",
    "    if len(y) >12 or len(y)<10 or len(y)==11:\n",
    "        print('This is an incorrect NIC number - please re enter a valid nic number') #Check to eliminate wrong values\n",
    "        \n",
    "    else:\n",
    "        if len(y) == 12:\n",
    "            year = int(y[:4])\n",
    "            z = int(x_string[4:7]) #z is the three numbers that follow after the year of birth. Note that this date value is given assuming every year is a leap year, hence seperate treatment will be applied to dob's where the year is not a leap year\n",
    "            if z>500:\n",
    "                gender = 'Female'\n",
    "                u = z - 500\n",
    "                if (year % 4 == 0 and year % 100 != 0) or (year % 400 == 0): #Checking for leap year\n",
    "                    date_of_birth = datetime(year-1,12,31) + timedelta(days = u) #If leap year, we can directly add the days value\n",
    "                else:\n",
    "                    if u<60:\n",
    "                        date_of_birth = datetime(year-1,12,31) + timedelta(days = u)#as mentioned prior the days value is given assuming it is a leap year. Now if this value is less than 60 there is no change since both leap and non-leap years have the same days up until 28th february.\n",
    "                    else:\n",
    "                        date_of_birth = datetime(year-1,12,31) + timedelta(days = u-1)#if the day value is greater than 59, then a leap year date will be different to a non leap year date due to the inclusion of 29th february. Hence the treatment applied here by deleting a day.\n",
    "            else:\n",
    "                gender = 'Male'\n",
    "                if (year % 4 == 0 and year % 100 != 0) or (year % 400 == 0):\n",
    "                    date_of_birth = datetime(year-1,12,31) + timedelta(days = z)\n",
    "                else:\n",
    "                    if z<60:\n",
    "                        date_of_birth = datetime(year-1,12,31) + timedelta(days = z)\n",
    "                    else:\n",
    "                        date_of_birth = datetime(year-1,12,31) + timedelta(days = z-1)\n",
    "                \n",
    "        else:\n",
    "            year = 1900 + int(y[0:2]) #We add the number from the first 2 digits to 1900 straight away to obtain the year of birth\n",
    "            z = int(x_string[2:5])\n",
    "            if z>500:\n",
    "                gender = 'Female'\n",
    "                u = z - 500\n",
    "                if (year % 4 == 0 and year % 100 != 0) or (year % 400 == 0):\n",
    "                    date_of_birth = datetime(year-1,12,31) + timedelta(days = u)\n",
    "                else:\n",
    "                    if u<60:\n",
    "                        date_of_birth = datetime(year-1,12,31) + timedelta(days = u)\n",
    "                    else:\n",
    "                        date_of_birth = datetime(year-1,12,31) + timedelta(days = u-1)\n",
    "                        \n",
    "            else:\n",
    "                gender = 'Male'\n",
    "                if (year % 4 == 0 and year % 100 != 0) or (year % 400 == 0):\n",
    "                    date_of_birth = datetime(year-1,12,31) + timedelta(days = z)\n",
    "                else:\n",
    "                    if z<60:\n",
    "                        date_of_birth = datetime(year-1,12,31) + timedelta(days = z)\n",
    "                    else:\n",
    "                        date_of_birth = datetime(year-1,12,31) + timedelta(days = z-1)\n",
    "                \n",
    "    print(f'Gender: {gender}')\n",
    "    print(f'Date Of Birth (Year/Month/Date): {date_of_birth.strftime(\"%Y-%m-%d\")}')"
   ]
  },
  {
   "cell_type": "code",
   "execution_count": 3,
   "id": "f24cc476",
   "metadata": {},
   "outputs": [
    {
     "name": "stdout",
     "output_type": "stream",
     "text": [
      "Please input the NIC number - include the letter at the end for older NIC numbers: 962674410V\n",
      "Gender: Male\n",
      "Date Of Birth (Year/Month/Date): 1996-09-23\n"
     ]
    }
   ],
   "source": [
    "nic_classifier()"
   ]
  },
  {
   "cell_type": "code",
   "execution_count": null,
   "id": "d037b3aa",
   "metadata": {},
   "outputs": [],
   "source": []
  }
 ],
 "metadata": {
  "kernelspec": {
   "display_name": "Python 3 (ipykernel)",
   "language": "python",
   "name": "python3"
  },
  "language_info": {
   "codemirror_mode": {
    "name": "ipython",
    "version": 3
   },
   "file_extension": ".py",
   "mimetype": "text/x-python",
   "name": "python",
   "nbconvert_exporter": "python",
   "pygments_lexer": "ipython3",
   "version": "3.11.3"
  }
 },
 "nbformat": 4,
 "nbformat_minor": 5
}
